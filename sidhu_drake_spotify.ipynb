{
 "cells": [
  {
   "cell_type": "markdown",
   "metadata": {},
   "source": [
    "# Sidhu x Drake: A Quick Exploration"
   ]
  },
  {
   "cell_type": "markdown",
   "metadata": {},
   "source": [
    "Drake and Sidhu Moose Wala never got a chance to collaborate on a song together, but that's not to say their music isn't compatible. Having danced to Bhangra mixes featuring songs from Punjabi artists like Sidhu and Western rap samples from artists like Drake, I was curious to use Spotify's API to get an idea of which of their songs might pair nicely together in a mix, according to some simple metric of musical compatibility.\n",
    "\n",
    "For my quick exploration, I only used a handful of song-level features to describe each track: tempo (e.g. BPM), time_signature (e.g. the numerator of 4/4), key (e.g. C), and mode (e.g. major/minor). Each of these fields was coded as a float by Spotify, so I compared similarity between vectors in $\\mathbb{R}^4$. After finding high-level song similarity, it would make sense to take a more granular look at the compatibility between within-song segments (defined as snippets of a song like a chorus, new instrument introduction, etc.) for mixing purposes. However, without computing power or clever vectorization, an exhaustive search across all possible segment pairs would quickly become intractable (for example, Spotify stores 747 segments for Ammy Virk's \"Solid\" alone). It would also be interesting to access the raw audio file, as well as transforms of the audio data using techniques like FFT's, in addition to higher level hand-coded features. \n",
    "\n",
    "I computed vector similarity using three common distance metrics: cosine similarity, euclidean distance, and manhattan distance. I also looked for clusters in $\\mathbb{R}^2$ after reducing each vector to its top 2 principal components from PCA."
   ]
  },
  {
   "cell_type": "code",
   "execution_count": 1,
   "metadata": {},
   "outputs": [
    {
     "name": "stderr",
     "output_type": "stream",
     "text": [
      "/opt/anaconda3/lib/python3.7/site-packages/sklearn/linear_model/least_angle.py:30: DeprecationWarning: `np.float` is a deprecated alias for the builtin `float`. To silence this warning, use `float` by itself. Doing this will not modify any behavior and is safe. If you specifically wanted the numpy scalar type, use `np.float64` here.\n",
      "Deprecated in NumPy 1.20; for more details and guidance: https://numpy.org/devdocs/release/1.20.0-notes.html#deprecations\n",
      "  method='lar', copy_X=True, eps=np.finfo(np.float).eps,\n",
      "/opt/anaconda3/lib/python3.7/site-packages/sklearn/linear_model/least_angle.py:167: DeprecationWarning: `np.float` is a deprecated alias for the builtin `float`. To silence this warning, use `float` by itself. Doing this will not modify any behavior and is safe. If you specifically wanted the numpy scalar type, use `np.float64` here.\n",
      "Deprecated in NumPy 1.20; for more details and guidance: https://numpy.org/devdocs/release/1.20.0-notes.html#deprecations\n",
      "  method='lar', copy_X=True, eps=np.finfo(np.float).eps,\n",
      "/opt/anaconda3/lib/python3.7/site-packages/sklearn/linear_model/least_angle.py:284: DeprecationWarning: `np.float` is a deprecated alias for the builtin `float`. To silence this warning, use `float` by itself. Doing this will not modify any behavior and is safe. If you specifically wanted the numpy scalar type, use `np.float64` here.\n",
      "Deprecated in NumPy 1.20; for more details and guidance: https://numpy.org/devdocs/release/1.20.0-notes.html#deprecations\n",
      "  eps=np.finfo(np.float).eps, copy_Gram=True, verbose=0,\n",
      "/opt/anaconda3/lib/python3.7/site-packages/sklearn/linear_model/least_angle.py:862: DeprecationWarning: `np.float` is a deprecated alias for the builtin `float`. To silence this warning, use `float` by itself. Doing this will not modify any behavior and is safe. If you specifically wanted the numpy scalar type, use `np.float64` here.\n",
      "Deprecated in NumPy 1.20; for more details and guidance: https://numpy.org/devdocs/release/1.20.0-notes.html#deprecations\n",
      "  eps=np.finfo(np.float).eps, copy_X=True, fit_path=True,\n",
      "/opt/anaconda3/lib/python3.7/site-packages/sklearn/linear_model/least_angle.py:1101: DeprecationWarning: `np.float` is a deprecated alias for the builtin `float`. To silence this warning, use `float` by itself. Doing this will not modify any behavior and is safe. If you specifically wanted the numpy scalar type, use `np.float64` here.\n",
      "Deprecated in NumPy 1.20; for more details and guidance: https://numpy.org/devdocs/release/1.20.0-notes.html#deprecations\n",
      "  eps=np.finfo(np.float).eps, copy_X=True, fit_path=True,\n",
      "/opt/anaconda3/lib/python3.7/site-packages/sklearn/linear_model/least_angle.py:1127: DeprecationWarning: `np.float` is a deprecated alias for the builtin `float`. To silence this warning, use `float` by itself. Doing this will not modify any behavior and is safe. If you specifically wanted the numpy scalar type, use `np.float64` here.\n",
      "Deprecated in NumPy 1.20; for more details and guidance: https://numpy.org/devdocs/release/1.20.0-notes.html#deprecations\n",
      "  eps=np.finfo(np.float).eps, positive=False):\n",
      "/opt/anaconda3/lib/python3.7/site-packages/sklearn/linear_model/least_angle.py:1362: DeprecationWarning: `np.float` is a deprecated alias for the builtin `float`. To silence this warning, use `float` by itself. Doing this will not modify any behavior and is safe. If you specifically wanted the numpy scalar type, use `np.float64` here.\n",
      "Deprecated in NumPy 1.20; for more details and guidance: https://numpy.org/devdocs/release/1.20.0-notes.html#deprecations\n",
      "  max_n_alphas=1000, n_jobs=None, eps=np.finfo(np.float).eps,\n",
      "/opt/anaconda3/lib/python3.7/site-packages/sklearn/linear_model/least_angle.py:1602: DeprecationWarning: `np.float` is a deprecated alias for the builtin `float`. To silence this warning, use `float` by itself. Doing this will not modify any behavior and is safe. If you specifically wanted the numpy scalar type, use `np.float64` here.\n",
      "Deprecated in NumPy 1.20; for more details and guidance: https://numpy.org/devdocs/release/1.20.0-notes.html#deprecations\n",
      "  max_n_alphas=1000, n_jobs=None, eps=np.finfo(np.float).eps,\n",
      "/opt/anaconda3/lib/python3.7/site-packages/sklearn/linear_model/least_angle.py:1738: DeprecationWarning: `np.float` is a deprecated alias for the builtin `float`. To silence this warning, use `float` by itself. Doing this will not modify any behavior and is safe. If you specifically wanted the numpy scalar type, use `np.float64` here.\n",
      "Deprecated in NumPy 1.20; for more details and guidance: https://numpy.org/devdocs/release/1.20.0-notes.html#deprecations\n",
      "  eps=np.finfo(np.float).eps, copy_X=True, positive=False):\n",
      "/opt/anaconda3/lib/python3.7/site-packages/sklearn/decomposition/online_lda.py:29: DeprecationWarning: `np.float` is a deprecated alias for the builtin `float`. To silence this warning, use `float` by itself. Doing this will not modify any behavior and is safe. If you specifically wanted the numpy scalar type, use `np.float64` here.\n",
      "Deprecated in NumPy 1.20; for more details and guidance: https://numpy.org/devdocs/release/1.20.0-notes.html#deprecations\n",
      "  EPS = np.finfo(np.float).eps\n"
     ]
    }
   ],
   "source": [
    "import spotipy\n",
    "from spotipy.oauth2 import SpotifyClientCredentials\n",
    "import numpy as np\n",
    "from sklearn.decomposition import PCA\n",
    "import matplotlib.pyplot as plt"
   ]
  },
  {
   "cell_type": "code",
   "execution_count": 2,
   "metadata": {},
   "outputs": [],
   "source": [
    "client_id = 'e32db2ab4299473088394f2a020cf8c6'\n",
    "client_secret = '6cb63b4390594ec8ad41a01782a3f84d'\n",
    "client_credentials_manager = SpotifyClientCredentials(client_id=client_id, client_secret=client_secret)\n",
    "sp = spotipy.Spotify(client_credentials_manager=client_credentials_manager)"
   ]
  },
  {
   "cell_type": "code",
   "execution_count": 3,
   "metadata": {},
   "outputs": [],
   "source": [
    "def cosine_similarity(a, b):\n",
    "    return np.dot(a, b) / (np.linalg.norm(a) * np.linalg.norm(b))"
   ]
  },
  {
   "cell_type": "code",
   "execution_count": 4,
   "metadata": {},
   "outputs": [],
   "source": [
    "def euclidean_distance(a, b):\n",
    "    distance = np.linalg.norm(a - b)\n",
    "    return distance"
   ]
  },
  {
   "cell_type": "code",
   "execution_count": 5,
   "metadata": {},
   "outputs": [],
   "source": [
    "def manhattan_distance(a, b):\n",
    "    distance = np.sum(np.abs(a - b))\n",
    "    return distance"
   ]
  },
  {
   "cell_type": "code",
   "execution_count": 6,
   "metadata": {},
   "outputs": [],
   "source": [
    "def get_high_level_song_features(artist_name, top=50):\n",
    "    results = sp.search(q=artist_name, type='artist')\n",
    "    artist_results = results['artists']['items'][0] \n",
    "    artist_id = artist_results['id']\n",
    "    \n",
    "    high_level_song_features = []\n",
    "\n",
    "    albums = sp.artist_albums(artist_id, album_type='album')\n",
    "    for album in albums['items']:\n",
    "        album_id = album['id']\n",
    "        album_name = album['name']\n",
    "        tracks = sp.album_tracks(album_id)\n",
    "\n",
    "        for track in tracks['items']:\n",
    "            track_id = track['id']\n",
    "            track_name = track['name']\n",
    "            audio_analysis = sp.audio_analysis(track_id)\n",
    "            features = np.array([audio_analysis[\"track\"][\"tempo\"], \n",
    "                                 audio_analysis[\"track\"][\"time_signature\"],\n",
    "                                 audio_analysis[\"track\"][\"key\"],\n",
    "                                 audio_analysis[\"track\"][\"mode\"]])\n",
    "            high_level_song_features.append((track_name, features))\n",
    "    \n",
    "    return high_level_song_features"
   ]
  },
  {
   "cell_type": "code",
   "execution_count": 7,
   "metadata": {},
   "outputs": [],
   "source": [
    "def get_most_compatible_pairs(artist_1, artist_2, metric):\n",
    "    pairs = []\n",
    "    songs_1 = get_high_level_song_features(artist_1)[:10]\n",
    "    songs_2 = get_high_level_song_features(artist_2)[:10]\n",
    "    for song_1 in songs_1:\n",
    "        for song_2 in songs_2:\n",
    "            if metric == \"manhattan\":\n",
    "                sim = manhattan_distance(song_1[1], song_2[1])\n",
    "                rev = False\n",
    "            elif metric == \"euclidean\":\n",
    "                sim = euclidean_distance(song_1[1], song_2[1])\n",
    "                rev = False\n",
    "            elif metric == \"cosine\":\n",
    "                sim = cosine_similarity(song_1[1], song_2[1])\n",
    "                rev = True\n",
    "            pairs.append((song_1[0], \n",
    "                          song_2[0], \n",
    "                          sim))            \n",
    "    pairs_sorted = sorted(pairs, key=lambda x: x[-1], reverse=rev)[:10]\n",
    "    return pairs_sorted"
   ]
  },
  {
   "cell_type": "markdown",
   "metadata": {},
   "source": [
    "Below we see that the distance metric has an effect on the rankings of pairs of songs. However, the small dimension of our vector space and common values of features (for example, most songs are in 4/4 time) also appears to inflate similarity metrics, implying that we need more descriptive features. "
   ]
  },
  {
   "cell_type": "code",
   "execution_count": 8,
   "metadata": {},
   "outputs": [
    {
     "name": "stdout",
     "output_type": "stream",
     "text": [
      "Cosine Similarity between \"Moosedrilla (feat. DIVINE)\" and \"Calling For You (feat. 21 Savage)\": 0.9999911869693228\n",
      "Cosine Similarity between \"Aroma\" and \"First Person Shooter (feat. J. Cole)\": 0.9999861776631902\n",
      "Cosine Similarity between \"Moosedrilla (feat. DIVINE)\" and \"Amen (feat. Teezo Touchdown)\": 0.9999834857714455\n",
      "Cosine Similarity between \"Burberry\" and \"Daylight\": 0.9999750874473244\n",
      "Cosine Similarity between \"Burberry\" and \"7969 Santa\": 0.9999743862387908\n",
      "Cosine Similarity between \"Aroma\" and \"7969 Santa\": 0.9999734926299801\n",
      "Cosine Similarity between \"Bitch I'm Back\" and \"First Person Shooter (feat. J. Cole)\": 0.999973000202276\n",
      "Cosine Similarity between \"Bitch I'm Back\" and \"IDGAF (feat. Yeat)\": 0.9999689463980025\n",
      "Cosine Similarity between \"Bitch I'm Back\" and \"Slime You Out (feat. SZA)\": 0.9999679737249375\n",
      "Cosine Similarity between \"Aroma\" and \"Daylight\": 0.9999677722929768\n"
     ]
    }
   ],
   "source": [
    "cosine_pairs = get_most_compatible_pairs(\"Sidhu Moose Wala\", \"Drake\", \"cosine\")\n",
    "for pair in cosine_pairs:\n",
    "    print(\"Cosine Similarity between \\\"\" + pair[0] + \"\\\" and \\\"\" + pair[1] + \"\\\": \" + str(pair[2]))"
   ]
  },
  {
   "cell_type": "code",
   "execution_count": 10,
   "metadata": {},
   "outputs": [
    {
     "name": "stdout",
     "output_type": "stream",
     "text": [
      "Euclidean Distance between \"Aroma\" and \"7969 Santa\": 1.1379143201489188\n",
      "Euclidean Distance between \"Racks and Rounds (feat. Sikander Kahlon)\" and \"Slime You Out (feat. SZA)\": 1.322859024990947\n",
      "Euclidean Distance between \"Aroma\" and \"Daylight\": 2.2468075128946854\n",
      "Euclidean Distance between \"Brown Shortie (feat. Sonam Bajwa)\" and \"Slime You Out (feat. SZA)\": 3.371433078084159\n",
      "Euclidean Distance between \"Aroma\" and \"IDGAF (feat. Yeat)\": 5.2250263157232055\n",
      "Euclidean Distance between \"Aroma\" and \"Fear Of Heights\": 5.34433681573307\n",
      "Euclidean Distance between \"Racks and Rounds (feat. Sikander Kahlon)\" and \"Amen (feat. Teezo Touchdown)\": 5.620334865468431\n",
      "Euclidean Distance between \"Moosedrilla (feat. DIVINE)\" and \"Fear Of Heights\": 7.138381048949405\n",
      "Euclidean Distance between \"Moosedrilla (feat. DIVINE)\" and \"IDGAF (feat. Yeat)\": 8.068872535862743\n",
      "Euclidean Distance between \"Brown Shortie (feat. Sonam Bajwa)\" and \"Amen (feat. Teezo Touchdown)\": 8.124743011320419\n"
     ]
    }
   ],
   "source": [
    "euclidean_pairs = get_most_compatible_pairs(\"Sidhu Moose Wala\", \"Drake\", \"euclidean\")\n",
    "for pair in euclidean_pairs:\n",
    "    print(\"Euclidean Distance between \\\"\" + pair[0] + \"\\\" and \\\"\" + pair[1] + \"\\\": \" + str(pair[2]))"
   ]
  },
  {
   "cell_type": "code",
   "execution_count": 11,
   "metadata": {},
   "outputs": [
    {
     "name": "stdout",
     "output_type": "stream",
     "text": [
      "Manhattan Distance between \"Aroma\" and \"7969 Santa\": 1.542999999999978\n",
      "Manhattan Distance between \"Racks and Rounds (feat. Sikander Kahlon)\" and \"Slime You Out (feat. SZA)\": 1.8659999999999997\n",
      "Manhattan Distance between \"Aroma\" and \"Daylight\": 3.0120000000000005\n",
      "Manhattan Distance between \"Brown Shortie (feat. Sonam Bajwa)\" and \"Slime You Out (feat. SZA)\": 5.169000000000011\n",
      "Manhattan Distance between \"Aroma\" and \"Fear Of Heights\": 6.955999999999989\n",
      "Manhattan Distance between \"Aroma\" and \"IDGAF (feat. Yeat)\": 7.030000000000001\n",
      "Manhattan Distance between \"Moosedrilla (feat. DIVINE)\" and \"Fear Of Heights\": 8.978000000000009\n",
      "Manhattan Distance between \"Moosedrilla (feat. DIVINE)\" and \"IDGAF (feat. Yeat)\": 9.052000000000021\n",
      "Manhattan Distance between \"Racks and Rounds (feat. Sikander Kahlon)\" and \"Amen (feat. Teezo Touchdown)\": 9.14200000000001\n",
      "Manhattan Distance between \"Bitch I'm Back\" and \"7969 Santa\": 9.439999999999998\n"
     ]
    }
   ],
   "source": [
    "manhattan_pairs = get_most_compatible_pairs(\"Sidhu Moose Wala\", \"Drake\", \"manhattan\")\n",
    "for pair in manhattan_pairs:\n",
    "    print(\"Manhattan Distance between \\\"\" + pair[0] + \"\\\" and \\\"\" + pair[1] + \"\\\": \" + str(pair[2]))"
   ]
  },
  {
   "cell_type": "code",
   "execution_count": 12,
   "metadata": {},
   "outputs": [],
   "source": [
    "sidhu_features = get_high_level_song_features(\"Sidhu Moose Wala\")\n",
    "sidhu_features_array = np.array([song[1] for song in sidhu_features])\n",
    "sidhu_names = [song[0] for song in sidhu_features]\n",
    "\n",
    "drake_features = get_high_level_song_features(\"Drake\")\n",
    "drake_features_array = np.array([song[1] for song in drake_features])\n",
    "drake_names = [song[0] for song in drake_features]"
   ]
  },
  {
   "cell_type": "code",
   "execution_count": 13,
   "metadata": {},
   "outputs": [],
   "source": [
    "pca = PCA(n_components=2)\n",
    "principal_components = pca.fit_transform(sidhu_features_array)\n",
    "pc_sidhu = np.array([principal_components[:, 0], principal_components[:, 1]]).T"
   ]
  },
  {
   "cell_type": "code",
   "execution_count": 14,
   "metadata": {},
   "outputs": [],
   "source": [
    "pca = PCA(n_components=2)\n",
    "principal_components = pca.fit_transform(drake_features_array)\n",
    "pc_drake = np.array([principal_components[:, 0], principal_components[:, 1]]).T"
   ]
  },
  {
   "cell_type": "code",
   "execution_count": 16,
   "metadata": {},
   "outputs": [
    {
     "data": {
      "image/png": "[encoded data removed]",
      "text/plain": [
       "<Figure size 432x288 with 1 Axes>"
      ]
     },
     "metadata": {
      "needs_background": "light"
     },
     "output_type": "display_data"
    }
   ],
   "source": [
    "distances = []\n",
    "for drake_point in pc_drake:\n",
    "    for sidhu_point in pc_sidhu:\n",
    "        distance = np.sqrt(np.sum((drake_point - sidhu_point)**2))\n",
    "        distances.append(distance)\n",
    "\n",
    "threshold = 0.32 # reduced threshold to not clutter display\n",
    "\n",
    "plt.scatter(pc_drake[:,0], pc_drake[:,1], color = \"red\")\n",
    "plt.scatter(pc_sidhu[:,0], pc_sidhu[:,1], color = \"blue\")\n",
    "\n",
    "for drake_name, drake_point in zip(drake_names, pc_drake):\n",
    "    for sidhu_name, sidhu_point in zip(sidhu_names, pc_sidhu):\n",
    "        distance = np.sqrt(np.sum((drake_point - sidhu_point)** 2))\n",
    "        if distance < threshold:\n",
    "            x = (drake_point[0] + sidhu_point[0])/2\n",
    "            y = (drake_point[1] + sidhu_point[1])/2\n",
    "            plt.annotate(drake_name, (drake_point[0], drake_point[1]), xytext=(x, y), \n",
    "                         textcoords='offset points', ha='center', va='center', rotation=45, color=\"red\")\n",
    "            plt.annotate(sidhu_name, (sidhu_point[0], sidhu_point[1]), xytext=(x + 20, y), \n",
    "                         textcoords='offset points', ha='center', va='center', rotation=45, color=\"blue\")\n",
    "plt.title(\"Song Similarity after PCA\")\n",
    "plt.show()"
   ]
  },
  {
   "cell_type": "markdown",
   "metadata": {},
   "source": [
    "Above we see a plot of the features each of Drake and Sidhu's top songs, reduced into two dimensions through PCA. The patterns and groupings of datapoints in this plot again highlights the need for more complex features, while still giving us some idea of similar songs as shown through the labeled points. "
   ]
  }
 ],
 "metadata": {
  "kernelspec": {
   "display_name": "Python 3",
   "language": "python",
   "name": "python3"
  },
  "language_info": {
   "codemirror_mode": {
    "name": "ipython",
    "version": 3
   },
   "file_extension": ".py",
   "mimetype": "text/x-python",
   "name": "python",
   "nbconvert_exporter": "python",
   "pygments_lexer": "ipython3",
   "version": "3.7.4"
  }
 },
 "nbformat": 4,
 "nbformat_minor": 2
}
